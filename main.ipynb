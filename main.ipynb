{
 "cells": [
  {
   "cell_type": "markdown",
   "id": "99a82279-2ec8-4fae-965d-8e3ad52df649",
   "metadata": {},
   "source": [
    "**Create a Shortcut in Google Drive:**\n",
    "On your Google Drive, create a shortcut to the shared folder."
   ]
  },
  {
   "cell_type": "markdown",
   "id": "fcfc48eb-51c8-4dfb-b61e-d3f360845438",
   "metadata": {
    "tags": []
   },
   "source": [
    "# Mount Google Drive"
   ]
  },
  {
   "cell_type": "code",
   "execution_count": null,
   "id": "80965051-2c1e-4728-b9f5-9f1412467aa5",
   "metadata": {},
   "outputs": [],
   "source": [
    "from google.colab import drive\n",
    "drive.mount('/gdrive')"
   ]
  },
  {
   "cell_type": "markdown",
   "id": "3d3c20c3-7791-415f-b2b7-bdcfb40f5fca",
   "metadata": {},
   "source": [
    "# Set working directory"
   ]
  },
  {
   "cell_type": "code",
   "execution_count": null,
   "id": "98425d98-12b6-466d-8654-2dbd96197078",
   "metadata": {},
   "outputs": [],
   "source": [
    "%cd /gdrive/MyDrive/<you shortcut folder loaction>"
   ]
  },
  {
   "cell_type": "markdown",
   "id": "c068a0a6-ae48-46a0-a0ea-5f48b41d0b25",
   "metadata": {},
   "source": [
    "# Check current path"
   ]
  },
  {
   "cell_type": "code",
   "execution_count": null,
   "id": "fa31a89d-f096-4c4d-bd45-a96d9cae9ed7",
   "metadata": {},
   "outputs": [],
   "source": [
    "!pwd #copy the output"
   ]
  },
  {
   "cell_type": "markdown",
   "id": "0213a0fe-6fcc-4bad-95de-f1404c36c422",
   "metadata": {},
   "source": [
    "# Copy data from shared folder to destination folder"
   ]
  },
  {
   "cell_type": "code",
   "execution_count": null,
   "id": "13e2b14f-0c93-428b-93d8-9dd44c53fb29",
   "metadata": {},
   "outputs": [],
   "source": [
    "!cp -r 'above-copy-path/.' '/gdrive/My Drive/destination-path'"
   ]
  },
  {
   "cell_type": "markdown",
   "id": "f9e56231-a25b-4b1a-b168-c428f83441bb",
   "metadata": {},
   "source": [
    "wait to compelet the this code !"
   ]
  },
  {
   "cell_type": "code",
   "execution_count": null,
   "id": "89e51c7b-addc-456f-b2f0-3d726ed3f31a",
   "metadata": {},
   "outputs": [],
   "source": []
  }
 ],
 "metadata": {
  "kernelspec": {
   "display_name": "Python 3 (ipykernel)",
   "language": "python",
   "name": "python3"
  },
  "language_info": {
   "codemirror_mode": {
    "name": "ipython",
    "version": 3
   },
   "file_extension": ".py",
   "mimetype": "text/x-python",
   "name": "python",
   "nbconvert_exporter": "python",
   "pygments_lexer": "ipython3",
   "version": "3.11.5"
  }
 },
 "nbformat": 4,
 "nbformat_minor": 5
}
